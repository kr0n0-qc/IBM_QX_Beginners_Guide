{
 "cells": [
  {
   "cell_type": "markdown",
   "metadata": {},
   "source": [
    "# Single-Qubit Gates\n",
    "https://quantumexperience.ng.bluemix.net/qx/tutorial?sectionId=beginners-guide&page=005-Single-Qubit_Gates~2F001-Single-Qubit_Gates"
   ]
  },
  {
   "cell_type": "code",
   "execution_count": 1,
   "metadata": {},
   "outputs": [
    {
     "name": "stdout",
     "output_type": "stream",
     "text": [
      "\u001b[39m\u001b[1mInstalling \u001b[32m\u001b[1mqiskit\u001b[39m\u001b[22m…\u001b[39m\u001b[22m\n",
      "\u001b[K\u001b[39m\u001b[1mAdding\u001b[39m\u001b[22m \u001b[32m\u001b[1mqiskit\u001b[39m\u001b[22m \u001b[39m\u001b[1mto Pipfile's\u001b[39m\u001b[22m \u001b[31m\u001b[1m[packages]\u001b[39m\u001b[22m\u001b[39m\u001b[1m…\u001b[39m\u001b[22m\n",
      "\u001b[K\u001b[?25h✔ Installation Succeeded\u001b[0m \n",
      "\u001b[39m\u001b[1mInstalling dependencies from Pipfile…\u001b[39m\u001b[22m\n",
      "  🐍   \u001b[32m\u001b[1m▉\u001b[39m\u001b[22m\u001b[32m\u001b[1m▉\u001b[39m\u001b[22m\u001b[32m\u001b[1m▉\u001b[39m\u001b[22m\u001b[32m\u001b[1m▉\u001b[39m\u001b[22m\u001b[32m\u001b[1m▉\u001b[39m\u001b[22m\u001b[32m\u001b[1m▉\u001b[39m\u001b[22m\u001b[32m\u001b[1m▉\u001b[39m\u001b[22m\u001b[32m\u001b[1m▉\u001b[39m\u001b[22m\u001b[32m\u001b[1m▉\u001b[39m\u001b[22m\u001b[32m\u001b[1m▉\u001b[39m\u001b[22m\u001b[32m\u001b[1m▉\u001b[39m\u001b[22m\u001b[32m\u001b[1m▉\u001b[39m\u001b[22m\u001b[32m\u001b[1m▉\u001b[39m\u001b[22m\u001b[32m\u001b[1m▉\u001b[39m\u001b[22m\u001b[32m\u001b[1m▉\u001b[39m\u001b[22m\u001b[32m\u001b[1m▉\u001b[39m\u001b[22m\u001b[32m\u001b[1m▉\u001b[39m\u001b[22m\u001b[32m\u001b[1m▉\u001b[39m\u001b[22m\u001b[32m\u001b[1m▉\u001b[39m\u001b[22m\u001b[32m\u001b[1m▉\u001b[39m\u001b[22m\u001b[32m\u001b[1m▉\u001b[39m\u001b[22m\u001b[32m\u001b[1m▉\u001b[39m\u001b[22m\u001b[32m\u001b[1m▉\u001b[39m\u001b[22m\u001b[32m\u001b[1m▉\u001b[39m\u001b[22m\u001b[32m\u001b[1m▉\u001b[39m\u001b[22m\u001b[32m\u001b[1m▉\u001b[39m\u001b[22m\u001b[32m\u001b[1m▉\u001b[39m\u001b[22m\u001b[32m\u001b[1m▉\u001b[39m\u001b[22m\u001b[32m\u001b[1m▉\u001b[39m\u001b[22m\u001b[32m\u001b[1m▉\u001b[39m\u001b[22m\u001b[32m\u001b[1m▉\u001b[39m\u001b[22m\u001b[32m\u001b[1m▉\u001b[39m\u001b[22m 2/2 — \u001b[30m\u001b[22m00:00:02\u001b[39m\u001b[22m:00:00\u001b[39m\u001b[22m:00:00\u001b[39m\u001b[22m\n",
      "\u001b[0m"
     ]
    }
   ],
   "source": [
    "!pipenv install qiskit"
   ]
  },
  {
   "cell_type": "code",
   "execution_count": 2,
   "metadata": {},
   "outputs": [],
   "source": [
    "import qiskit as qk"
   ]
  },
  {
   "cell_type": "code",
   "execution_count": 3,
   "metadata": {},
   "outputs": [
    {
     "name": "stdout",
     "output_type": "stream",
     "text": [
      "<module 'qiskit.version' from '/Users/Kr0n0/Proyectos/Xift/QC/.venv/lib/python3.7/site-packages/qiskit/version.py'>\n"
     ]
    }
   ],
   "source": [
    "print(qk.version)"
   ]
  },
  {
   "cell_type": "code",
   "execution_count": 4,
   "metadata": {},
   "outputs": [],
   "source": [
    "def simulador(circuito, iteraciones):\n",
    "    backend = qk.BasicAer.get_backend('qasm_simulator')\n",
    "    job1 = qk.execute([circuito], backend=backend, shots=iteraciones)\n",
    "    result1 = job1.result()\n",
    "    return(result1.get_counts(circuito))"
   ]
  },
  {
   "cell_type": "markdown",
   "metadata": {},
   "source": [
    "## X Gate"
   ]
  },
  {
   "cell_type": "code",
   "execution_count": 5,
   "metadata": {},
   "outputs": [],
   "source": [
    "# Definimos 1 qubit\n",
    "qr = qk.QuantumRegister(1)\n",
    "# Definimos 1 bit para guardar los valores medidos\n",
    "cr = qk.ClassicalRegister(1)\n",
    "# Definimos un circuito con esta arquitectura\n",
    "qc = qk.QuantumCircuit(qr, cr)"
   ]
  },
  {
   "cell_type": "code",
   "execution_count": 6,
   "metadata": {},
   "outputs": [
    {
     "data": {
      "text/plain": [
       "<qiskit.circuit.measure.Measure at 0x12d7a6160>"
      ]
     },
     "execution_count": 6,
     "metadata": {},
     "output_type": "execute_result"
    }
   ],
   "source": [
    "# X Gate o bitflip. Similar a puerta NOT clásica\n",
    "qc.x(qr[0])\n",
    "# Medimos el valor después de pasar por la Gate X\n",
    "qc.measure(qr[0],cr[0])"
   ]
  },
  {
   "cell_type": "code",
   "execution_count": 7,
   "metadata": {},
   "outputs": [
    {
     "data": {
      "text/plain": [
       "{'1': 1000}"
      ]
     },
     "execution_count": 7,
     "metadata": {},
     "output_type": "execute_result"
    }
   ],
   "source": [
    "# Simulamos el circuito con 1000 iteraciones\n",
    "simulador(qc,1000)"
   ]
  },
  {
   "cell_type": "markdown",
   "metadata": {},
   "source": [
    "Para las 1000 iteraciones, la simulación nos da el valor invertido (1)"
   ]
  },
  {
   "cell_type": "code",
   "execution_count": 8,
   "metadata": {},
   "outputs": [
    {
     "name": "stdout",
     "output_type": "stream",
     "text": [
      "         ┌───┐┌─┐\n",
      "q0_0: |0>┤ X ├┤M├\n",
      "         └───┘└╥┘\n",
      " c0_0: 0 ══════╩═\n",
      "                 \n"
     ]
    }
   ],
   "source": [
    "print(qc.draw())"
   ]
  },
  {
   "cell_type": "markdown",
   "metadata": {},
   "source": [
    "## Creating superposition"
   ]
  },
  {
   "cell_type": "markdown",
   "metadata": {},
   "source": [
    "### |+> Superposition state"
   ]
  },
  {
   "cell_type": "code",
   "execution_count": 9,
   "metadata": {},
   "outputs": [],
   "source": [
    "# Definimos 1 qubit\n",
    "qr = qk.QuantumRegister(1)\n",
    "# Definimos 1 bit para guardar los valores medidos\n",
    "cr = qk.ClassicalRegister(1)\n",
    "# Definimos un circuito con esta arquitectura\n",
    "qc = qk.QuantumCircuit(qr, cr)"
   ]
  },
  {
   "cell_type": "code",
   "execution_count": 10,
   "metadata": {},
   "outputs": [
    {
     "data": {
      "text/plain": [
       "<qiskit.circuit.measure.Measure at 0x12d862828>"
      ]
     },
     "execution_count": 10,
     "metadata": {},
     "output_type": "execute_result"
    }
   ],
   "source": [
    "# Hadamard Gate. Cambia el estado a estado superpuesto (en este caso |0> -> |+>)\n",
    "qc.h(qr[0])\n",
    "# Medimos el valor\n",
    "qc.measure(qr[0],cr[0])"
   ]
  },
  {
   "cell_type": "code",
   "execution_count": 11,
   "metadata": {},
   "outputs": [
    {
     "data": {
      "text/plain": [
       "{'0': 468, '1': 532}"
      ]
     },
     "execution_count": 11,
     "metadata": {},
     "output_type": "execute_result"
    }
   ],
   "source": [
    "# Simulamos el circuito con 1000 iteraciones\n",
    "simulador(qc,1000)"
   ]
  },
  {
   "cell_type": "markdown",
   "metadata": {},
   "source": [
    "Para las 1000 iteraciones vemos que la mitad aproximadamente dan un valor 0 y la mitad un valor 1"
   ]
  },
  {
   "cell_type": "code",
   "execution_count": 12,
   "metadata": {},
   "outputs": [
    {
     "name": "stdout",
     "output_type": "stream",
     "text": [
      "         ┌───┐┌─┐\n",
      "q1_0: |0>┤ H ├┤M├\n",
      "         └───┘└╥┘\n",
      " c1_0: 0 ══════╩═\n",
      "                 \n"
     ]
    }
   ],
   "source": [
    "print(qc.draw())"
   ]
  },
  {
   "cell_type": "markdown",
   "metadata": {},
   "source": [
    "### |-> Superposition state"
   ]
  },
  {
   "cell_type": "code",
   "execution_count": 13,
   "metadata": {},
   "outputs": [],
   "source": [
    "# Definimos 1 qubit\n",
    "qr = qk.QuantumRegister(1)\n",
    "# Definimos 1 bit para guardar los valores medidos\n",
    "cr = qk.ClassicalRegister(1)\n",
    "# Definimos un circuito con esta arquitectura\n",
    "qc = qk.QuantumCircuit(qr, cr)"
   ]
  },
  {
   "cell_type": "code",
   "execution_count": 14,
   "metadata": {},
   "outputs": [
    {
     "data": {
      "text/plain": [
       "<qiskit.circuit.measure.Measure at 0x12d8ce2b0>"
      ]
     },
     "execution_count": 14,
     "metadata": {},
     "output_type": "execute_result"
    }
   ],
   "source": [
    "# X Gate o bitflip. Similar a puerta NOT clásica\n",
    "qc.x(qr[0])\n",
    "# Hadamard Gate. Cambia el estado a estado superpuesto (en este caso |1> -> |->)\n",
    "qc.h(qr[0])\n",
    "# Medimos el valor\n",
    "qc.measure(qr[0],cr[0])"
   ]
  },
  {
   "cell_type": "code",
   "execution_count": 15,
   "metadata": {},
   "outputs": [
    {
     "data": {
      "text/plain": [
       "{'0': 501, '1': 499}"
      ]
     },
     "execution_count": 15,
     "metadata": {},
     "output_type": "execute_result"
    }
   ],
   "source": [
    "# Simulamos el circuito con 1000 iteraciones\n",
    "simulador(qc,1000)"
   ]
  },
  {
   "cell_type": "markdown",
   "metadata": {},
   "source": [
    "Para las 1000 iteraciones vemos que la mitad aproximadamente dan un valor 0 y la mitad un valor 1"
   ]
  },
  {
   "cell_type": "code",
   "execution_count": 16,
   "metadata": {},
   "outputs": [
    {
     "name": "stdout",
     "output_type": "stream",
     "text": [
      "         ┌───┐┌───┐┌─┐\n",
      "q2_0: |0>┤ X ├┤ H ├┤M├\n",
      "         └───┘└───┘└╥┘\n",
      " c2_0: 0 ═══════════╩═\n",
      "                      \n"
     ]
    }
   ],
   "source": [
    "print(qc.draw())"
   ]
  },
  {
   "cell_type": "markdown",
   "metadata": {},
   "source": [
    "### |+> state measured in X basis"
   ]
  },
  {
   "cell_type": "code",
   "execution_count": 17,
   "metadata": {},
   "outputs": [],
   "source": [
    "# Definimos 1 qubit\n",
    "qr = qk.QuantumRegister(1)\n",
    "# Definimos 1 bit para guardar los valores medidos\n",
    "cr = qk.ClassicalRegister(1)\n",
    "# Definimos un circuito con esta arquitectura\n",
    "qc = qk.QuantumCircuit(qr, cr)"
   ]
  },
  {
   "cell_type": "code",
   "execution_count": 18,
   "metadata": {},
   "outputs": [
    {
     "data": {
      "text/plain": [
       "<qiskit.circuit.measure.Measure at 0x12d8dccf8>"
      ]
     },
     "execution_count": 18,
     "metadata": {},
     "output_type": "execute_result"
    }
   ],
   "source": [
    "# Hadamard Gate. Cambia el estado a estado superpuesto (en este caso |0> -> |+>)\n",
    "qc.h(qr[0])\n",
    "# Hadamard Gate. Cambia el estado a estado superpuesto (en este caso |+> -> |0>)\n",
    "qc.h(qr[0])\n",
    "# Medimos el valor\n",
    "qc.measure(qr[0],cr[0])"
   ]
  },
  {
   "cell_type": "code",
   "execution_count": 19,
   "metadata": {},
   "outputs": [
    {
     "data": {
      "text/plain": [
       "{'0': 1000}"
      ]
     },
     "execution_count": 19,
     "metadata": {},
     "output_type": "execute_result"
    }
   ],
   "source": [
    "# Simulamos el circuito con 1000 iteraciones\n",
    "simulador(qc,1000)"
   ]
  },
  {
   "cell_type": "markdown",
   "metadata": {},
   "source": [
    "Para las 1000 iteraciones vemos que la mitad aproximadamente dan un valor 0 y la mitad un valor 1"
   ]
  },
  {
   "cell_type": "code",
   "execution_count": 20,
   "metadata": {},
   "outputs": [
    {
     "name": "stdout",
     "output_type": "stream",
     "text": [
      "         ┌───┐┌───┐┌─┐\n",
      "q3_0: |0>┤ H ├┤ H ├┤M├\n",
      "         └───┘└───┘└╥┘\n",
      " c3_0: 0 ═══════════╩═\n",
      "                      \n"
     ]
    }
   ],
   "source": [
    "print(qc.draw())"
   ]
  },
  {
   "cell_type": "markdown",
   "metadata": {},
   "source": [
    "### |-> state measured in X basis"
   ]
  },
  {
   "cell_type": "code",
   "execution_count": 21,
   "metadata": {},
   "outputs": [],
   "source": [
    "# Definimos 1 qubit\n",
    "qr = qk.QuantumRegister(1)\n",
    "# Definimos 1 bit para guardar los valores medidos\n",
    "cr = qk.ClassicalRegister(1)\n",
    "# Definimos un circuito con esta arquitectura\n",
    "qc = qk.QuantumCircuit(qr, cr)"
   ]
  },
  {
   "cell_type": "code",
   "execution_count": 22,
   "metadata": {},
   "outputs": [
    {
     "data": {
      "text/plain": [
       "<qiskit.circuit.measure.Measure at 0x12d8e2f28>"
      ]
     },
     "execution_count": 22,
     "metadata": {},
     "output_type": "execute_result"
    }
   ],
   "source": [
    "# X Gate o bitflip. Similar a puerta NOT clásica\n",
    "qc.x(qr[0])\n",
    "# Hadamard Gate. Cambia el estado a estado superpuesto (en este caso |0> -> |+>)\n",
    "qc.h(qr[0])\n",
    "# Hadamard Gate. Cambia el estado a estado superpuesto (en este caso |+> -> |0>)\n",
    "qc.h(qr[0])\n",
    "# Medimos el valor\n",
    "qc.measure(qr[0],cr[0])"
   ]
  },
  {
   "cell_type": "code",
   "execution_count": 23,
   "metadata": {},
   "outputs": [
    {
     "data": {
      "text/plain": [
       "{'1': 1000}"
      ]
     },
     "execution_count": 23,
     "metadata": {},
     "output_type": "execute_result"
    }
   ],
   "source": [
    "# Simulamos el circuito con 1000 iteraciones\n",
    "simulador(qc,1000)"
   ]
  },
  {
   "cell_type": "markdown",
   "metadata": {},
   "source": [
    "Para las 1000 iteraciones vemos que la mitad aproximadamente dan un valor 0 y la mitad un valor 1"
   ]
  },
  {
   "cell_type": "code",
   "execution_count": 24,
   "metadata": {},
   "outputs": [
    {
     "name": "stdout",
     "output_type": "stream",
     "text": [
      "         ┌───┐┌───┐┌───┐┌─┐\n",
      "q4_0: |0>┤ X ├┤ H ├┤ H ├┤M├\n",
      "         └───┘└───┘└───┘└╥┘\n",
      " c4_0: 0 ════════════════╩═\n",
      "                           \n"
     ]
    }
   ],
   "source": [
    "print(qc.draw())"
   ]
  },
  {
   "cell_type": "markdown",
   "metadata": {},
   "source": [
    "## Introducing qubit phase"
   ]
  },
  {
   "cell_type": "markdown",
   "metadata": {},
   "source": [
    "### Z gate: when qubit is in the |0> state"
   ]
  },
  {
   "cell_type": "code",
   "execution_count": 25,
   "metadata": {},
   "outputs": [],
   "source": [
    "# Definimos 1 qubit\n",
    "qr = qk.QuantumRegister(1)\n",
    "# Definimos 1 bit para guardar los valores medidos\n",
    "cr = qk.ClassicalRegister(1)\n",
    "# Definimos un circuito con esta arquitectura\n",
    "qc = qk.QuantumCircuit(qr, cr)"
   ]
  },
  {
   "cell_type": "code",
   "execution_count": 26,
   "metadata": {},
   "outputs": [
    {
     "data": {
      "text/plain": [
       "<qiskit.circuit.measure.Measure at 0x12d8dc828>"
      ]
     },
     "execution_count": 26,
     "metadata": {},
     "output_type": "execute_result"
    }
   ],
   "source": [
    "# Z Gate - Rotación de pi grados respecto al eje Z\n",
    "qc.z(qr[0])\n",
    "# Medimos el valor\n",
    "qc.measure(qr[0],cr[0])"
   ]
  },
  {
   "cell_type": "code",
   "execution_count": 27,
   "metadata": {},
   "outputs": [
    {
     "data": {
      "text/plain": [
       "{'0': 1000}"
      ]
     },
     "execution_count": 27,
     "metadata": {},
     "output_type": "execute_result"
    }
   ],
   "source": [
    "# Simulamos el circuito con 1000 iteraciones\n",
    "simulador(qc,1000)"
   ]
  },
  {
   "cell_type": "markdown",
   "metadata": {},
   "source": [
    "Para las 1000 iteraciones vemos que sigue dando valor 0"
   ]
  },
  {
   "cell_type": "code",
   "execution_count": 28,
   "metadata": {},
   "outputs": [
    {
     "name": "stdout",
     "output_type": "stream",
     "text": [
      "         ┌───┐┌─┐\n",
      "q5_0: |0>┤ Z ├┤M├\n",
      "         └───┘└╥┘\n",
      " c5_0: 0 ══════╩═\n",
      "                 \n"
     ]
    }
   ],
   "source": [
    "print(qc.draw())"
   ]
  },
  {
   "cell_type": "markdown",
   "metadata": {},
   "source": [
    "### Z gate: when the qubit is in the |+> state"
   ]
  },
  {
   "cell_type": "code",
   "execution_count": 29,
   "metadata": {},
   "outputs": [],
   "source": [
    "# Definimos 1 qubit\n",
    "qr = qk.QuantumRegister(1)\n",
    "# Definimos 1 bit para guardar los valores medidos\n",
    "cr = qk.ClassicalRegister(1)\n",
    "# Definimos un circuito con esta arquitectura\n",
    "qc = qk.QuantumCircuit(qr, cr)"
   ]
  },
  {
   "cell_type": "code",
   "execution_count": 30,
   "metadata": {},
   "outputs": [
    {
     "data": {
      "text/plain": [
       "<qiskit.circuit.measure.Measure at 0x12d8e2d30>"
      ]
     },
     "execution_count": 30,
     "metadata": {},
     "output_type": "execute_result"
    }
   ],
   "source": [
    "# Z Gate - Rotación de pi grados respecto al eje Z\n",
    "qc.z(qr[0])\n",
    "# Medimos el valor\n",
    "qc.measure(qr[0],cr[0])"
   ]
  },
  {
   "cell_type": "code",
   "execution_count": 31,
   "metadata": {},
   "outputs": [
    {
     "data": {
      "text/plain": [
       "{'0': 1000}"
      ]
     },
     "execution_count": 31,
     "metadata": {},
     "output_type": "execute_result"
    }
   ],
   "source": [
    "# Simulamos el circuito con 1000 iteraciones\n",
    "simulador(qc,1000)"
   ]
  },
  {
   "cell_type": "markdown",
   "metadata": {},
   "source": [
    "Para las 1000 iteraciones vemos que sigue dando valor 0"
   ]
  },
  {
   "cell_type": "code",
   "execution_count": 32,
   "metadata": {},
   "outputs": [
    {
     "name": "stdout",
     "output_type": "stream",
     "text": [
      "         ┌───┐┌─┐\n",
      "q6_0: |0>┤ Z ├┤M├\n",
      "         └───┘└╥┘\n",
      " c6_0: 0 ══════╩═\n",
      "                 \n"
     ]
    }
   ],
   "source": [
    "print(qc.draw())"
   ]
  },
  {
   "cell_type": "markdown",
   "metadata": {},
   "source": [
    "### Z gate: when qubit is in the |0> state"
   ]
  },
  {
   "cell_type": "code",
   "execution_count": 33,
   "metadata": {},
   "outputs": [],
   "source": [
    "# Definimos 1 qubit\n",
    "qr = qk.QuantumRegister(1)\n",
    "# Definimos 1 bit para guardar los valores medidos\n",
    "cr = qk.ClassicalRegister(1)\n",
    "# Definimos un circuito con esta arquitectura\n",
    "qc = qk.QuantumCircuit(qr, cr)"
   ]
  },
  {
   "cell_type": "code",
   "execution_count": 34,
   "metadata": {},
   "outputs": [
    {
     "data": {
      "text/plain": [
       "<qiskit.circuit.measure.Measure at 0x12d8ea588>"
      ]
     },
     "execution_count": 34,
     "metadata": {},
     "output_type": "execute_result"
    }
   ],
   "source": [
    "# Hadamard Gate. Cambia el estado a estado superpuesto (en este caso |0> -> |+>)\n",
    "qc.h(qr[0])\n",
    "# Z Gate - Rotación de pi grados respecto al eje Z\n",
    "qc.z(qr[0])\n",
    "# Medimos el valor\n",
    "qc.measure(qr[0],cr[0])"
   ]
  },
  {
   "cell_type": "code",
   "execution_count": 35,
   "metadata": {},
   "outputs": [
    {
     "data": {
      "text/plain": [
       "{'0': 502, '1': 498}"
      ]
     },
     "execution_count": 35,
     "metadata": {},
     "output_type": "execute_result"
    }
   ],
   "source": [
    "# Simulamos el circuito con 1000 iteraciones\n",
    "simulador(qc,1000)"
   ]
  },
  {
   "cell_type": "markdown",
   "metadata": {},
   "source": [
    "Para las 1000 iteraciones vemos que al estar en |-> se divide entre los dos posibles estados"
   ]
  },
  {
   "cell_type": "code",
   "execution_count": 36,
   "metadata": {},
   "outputs": [
    {
     "name": "stdout",
     "output_type": "stream",
     "text": [
      "         ┌───┐┌───┐┌─┐\n",
      "q7_0: |0>┤ H ├┤ Z ├┤M├\n",
      "         └───┘└───┘└╥┘\n",
      " c7_0: 0 ═══════════╩═\n",
      "                      \n"
     ]
    }
   ],
   "source": [
    "print(qc.draw())"
   ]
  },
  {
   "cell_type": "markdown",
   "metadata": {},
   "source": [
    "### Gate sequences"
   ]
  },
  {
   "cell_type": "markdown",
   "metadata": {},
   "source": [
    "#### Caso 0 H-H-M\n"
   ]
  },
  {
   "cell_type": "code",
   "execution_count": 37,
   "metadata": {},
   "outputs": [],
   "source": [
    "# Definimos 1 qubit\n",
    "qr = qk.QuantumRegister(1)\n",
    "# Definimos 1 bit para guardar los valores medidos\n",
    "cr = qk.ClassicalRegister(1)\n",
    "# Definimos un circuito con esta arquitectura\n",
    "qc = qk.QuantumCircuit(qr, cr)"
   ]
  },
  {
   "cell_type": "code",
   "execution_count": 38,
   "metadata": {},
   "outputs": [
    {
     "data": {
      "text/plain": [
       "<qiskit.circuit.measure.Measure at 0x12d902978>"
      ]
     },
     "execution_count": 38,
     "metadata": {},
     "output_type": "execute_result"
    }
   ],
   "source": [
    "qc.h(qr[0])\n",
    "qc.h(qr[0])\n",
    "qc.measure(qr[0],cr[0])"
   ]
  },
  {
   "cell_type": "code",
   "execution_count": 39,
   "metadata": {},
   "outputs": [
    {
     "data": {
      "text/plain": [
       "{'0': 1000}"
      ]
     },
     "execution_count": 39,
     "metadata": {},
     "output_type": "execute_result"
    }
   ],
   "source": [
    "# Simulamos el circuito con 1000 iteraciones\n",
    "simulador(qc,1000)"
   ]
  },
  {
   "cell_type": "markdown",
   "metadata": {},
   "source": [
    "Para las 1000 iteraciones vemos que tenemos un estado de valor 0 de 100%"
   ]
  },
  {
   "cell_type": "code",
   "execution_count": 40,
   "metadata": {
    "scrolled": true
   },
   "outputs": [
    {
     "name": "stdout",
     "output_type": "stream",
     "text": [
      "         ┌───┐┌───┐┌─┐\n",
      "q8_0: |0>┤ H ├┤ H ├┤M├\n",
      "         └───┘└───┘└╥┘\n",
      " c8_0: 0 ═══════════╩═\n",
      "                      \n"
     ]
    }
   ],
   "source": [
    "print(qc.draw())"
   ]
  },
  {
   "cell_type": "markdown",
   "metadata": {},
   "source": [
    "#### Caso 1 H-T-H-M"
   ]
  },
  {
   "cell_type": "code",
   "execution_count": 41,
   "metadata": {},
   "outputs": [],
   "source": [
    "# Definimos 1 qubit\n",
    "qr = qk.QuantumRegister(1)\n",
    "# Definimos 1 bit para guardar los valores medidos\n",
    "cr = qk.ClassicalRegister(1)\n",
    "# Definimos un circuito con esta arquitectura\n",
    "qc = qk.QuantumCircuit(qr, cr)"
   ]
  },
  {
   "cell_type": "code",
   "execution_count": 42,
   "metadata": {},
   "outputs": [
    {
     "data": {
      "text/plain": [
       "<qiskit.circuit.measure.Measure at 0x12d904a58>"
      ]
     },
     "execution_count": 42,
     "metadata": {},
     "output_type": "execute_result"
    }
   ],
   "source": [
    "qc.h(qr[0])\n",
    "qc.t(qr[0])\n",
    "qc.h(qr[0])\n",
    "qc.measure(qr[0],cr[0])"
   ]
  },
  {
   "cell_type": "code",
   "execution_count": 43,
   "metadata": {},
   "outputs": [
    {
     "data": {
      "text/plain": [
       "{'0': 841, '1': 159}"
      ]
     },
     "execution_count": 43,
     "metadata": {},
     "output_type": "execute_result"
    }
   ],
   "source": [
    "# Simulamos el circuito con 1000 iteraciones\n",
    "simulador(qc,1000)"
   ]
  },
  {
   "cell_type": "markdown",
   "metadata": {},
   "source": [
    "Para las 1000 iteraciones vemos que tenemos un 85% de posibilidades de estar en estado 0 y un 15 de estar en estado 1"
   ]
  },
  {
   "cell_type": "code",
   "execution_count": 44,
   "metadata": {},
   "outputs": [
    {
     "name": "stdout",
     "output_type": "stream",
     "text": [
      "         ┌───┐┌───┐┌───┐┌─┐\n",
      "q9_0: |0>┤ H ├┤ T ├┤ H ├┤M├\n",
      "         └───┘└───┘└───┘└╥┘\n",
      " c9_0: 0 ════════════════╩═\n",
      "                           \n"
     ]
    }
   ],
   "source": [
    "print(qc.draw())"
   ]
  },
  {
   "cell_type": "markdown",
   "metadata": {},
   "source": [
    "#### Caso 2 H-S-H-M"
   ]
  },
  {
   "cell_type": "code",
   "execution_count": 45,
   "metadata": {},
   "outputs": [],
   "source": [
    "# Definimos 1 qubit\n",
    "qr = qk.QuantumRegister(1)\n",
    "# Definimos 1 bit para guardar los valores medidos\n",
    "cr = qk.ClassicalRegister(1)\n",
    "# Definimos un circuito con esta arquitectura\n",
    "qc = qk.QuantumCircuit(qr, cr)"
   ]
  },
  {
   "cell_type": "code",
   "execution_count": 46,
   "metadata": {},
   "outputs": [
    {
     "data": {
      "text/plain": [
       "<qiskit.circuit.measure.Measure at 0x12d904d30>"
      ]
     },
     "execution_count": 46,
     "metadata": {},
     "output_type": "execute_result"
    }
   ],
   "source": [
    "qc.h(qr[0])\n",
    "qc.s(qr[0])\n",
    "qc.h(qr[0])\n",
    "qc.measure(qr[0],cr[0])"
   ]
  },
  {
   "cell_type": "code",
   "execution_count": 47,
   "metadata": {},
   "outputs": [
    {
     "data": {
      "text/plain": [
       "{'0': 487, '1': 513}"
      ]
     },
     "execution_count": 47,
     "metadata": {},
     "output_type": "execute_result"
    }
   ],
   "source": [
    "# Simulamos el circuito con 1000 iteraciones\n",
    "simulador(qc,1000)"
   ]
  },
  {
   "cell_type": "markdown",
   "metadata": {},
   "source": [
    "Para las 1000 iteraciones vemos que tenemos un 50% de posibilidades de estar en cualquiera de los dos estados"
   ]
  },
  {
   "cell_type": "code",
   "execution_count": 48,
   "metadata": {},
   "outputs": [
    {
     "name": "stdout",
     "output_type": "stream",
     "text": [
      "          ┌───┐┌───┐┌───┐┌─┐\n",
      "q10_0: |0>┤ H ├┤ S ├┤ H ├┤M├\n",
      "          └───┘└───┘└───┘└╥┘\n",
      " c10_0: 0 ════════════════╩═\n",
      "                            \n"
     ]
    }
   ],
   "source": [
    "print(qc.draw())"
   ]
  },
  {
   "cell_type": "markdown",
   "metadata": {},
   "source": [
    "#### Caso 3 H-S-T-H-M"
   ]
  },
  {
   "cell_type": "code",
   "execution_count": 49,
   "metadata": {},
   "outputs": [],
   "source": [
    "# Definimos 1 qubit\n",
    "qr = qk.QuantumRegister(1)\n",
    "# Definimos 1 bit para guardar los valores medidos\n",
    "cr = qk.ClassicalRegister(1)\n",
    "# Definimos un circuito con esta arquitectura\n",
    "qc = qk.QuantumCircuit(qr, cr)"
   ]
  },
  {
   "cell_type": "code",
   "execution_count": 50,
   "metadata": {},
   "outputs": [
    {
     "data": {
      "text/plain": [
       "<qiskit.circuit.measure.Measure at 0x12d8ea860>"
      ]
     },
     "execution_count": 50,
     "metadata": {},
     "output_type": "execute_result"
    }
   ],
   "source": [
    "# Caso 3 H-S-T-H-M\n",
    "qc.h(qr[0])\n",
    "qc.s(qr[0])\n",
    "qc.t(qr[0])\n",
    "qc.h(qr[0])\n",
    "qc.measure(qr[0],cr[0])"
   ]
  },
  {
   "cell_type": "code",
   "execution_count": 51,
   "metadata": {},
   "outputs": [
    {
     "data": {
      "text/plain": [
       "{'0': 144, '1': 856}"
      ]
     },
     "execution_count": 51,
     "metadata": {},
     "output_type": "execute_result"
    }
   ],
   "source": [
    "# Simulamos el circuito con 1000 iteraciones\n",
    "simulador(qc,1000)"
   ]
  },
  {
   "cell_type": "markdown",
   "metadata": {},
   "source": [
    "Para las 1000 iteraciones vemos que tenemos un 15% de posibilidades de estar en estado 0 y un 85% de posibilidades de estar en estado 1"
   ]
  },
  {
   "cell_type": "code",
   "execution_count": 52,
   "metadata": {
    "scrolled": false
   },
   "outputs": [
    {
     "name": "stdout",
     "output_type": "stream",
     "text": [
      "          ┌───┐┌───┐┌───┐┌───┐┌─┐\n",
      "q11_0: |0>┤ H ├┤ S ├┤ T ├┤ H ├┤M├\n",
      "          └───┘└───┘└───┘└───┘└╥┘\n",
      " c11_0: 0 ═════════════════════╩═\n",
      "                                 \n"
     ]
    }
   ],
   "source": [
    "print(qc.draw())"
   ]
  },
  {
   "cell_type": "markdown",
   "metadata": {},
   "source": [
    "#### Case 4 H-Z-H-M"
   ]
  },
  {
   "cell_type": "code",
   "execution_count": 53,
   "metadata": {},
   "outputs": [],
   "source": [
    "# Definimos 1 qubit\n",
    "qr = qk.QuantumRegister(1)\n",
    "# Definimos 1 bit para guardar los valores medidos\n",
    "cr = qk.ClassicalRegister(1)\n",
    "# Definimos un circuito con esta arquitectura\n",
    "qc = qk.QuantumCircuit(qr, cr)"
   ]
  },
  {
   "cell_type": "code",
   "execution_count": 54,
   "metadata": {},
   "outputs": [
    {
     "data": {
      "text/plain": [
       "<qiskit.circuit.measure.Measure at 0x12d91a470>"
      ]
     },
     "execution_count": 54,
     "metadata": {},
     "output_type": "execute_result"
    }
   ],
   "source": [
    "qc.h(qr[0])\n",
    "qc.z(qr[0])\n",
    "qc.h(qr[0])\n",
    "qc.measure(qr[0],cr[0])"
   ]
  },
  {
   "cell_type": "code",
   "execution_count": 55,
   "metadata": {},
   "outputs": [
    {
     "data": {
      "text/plain": [
       "{'1': 1000}"
      ]
     },
     "execution_count": 55,
     "metadata": {},
     "output_type": "execute_result"
    }
   ],
   "source": [
    "# Simulamos el circuito con 1000 iteraciones\n",
    "simulador(qc,1000)"
   ]
  },
  {
   "cell_type": "markdown",
   "metadata": {},
   "source": [
    "Para las 1000 iteraciones vemos que tenemos un 100% de posiblidades de estar en estado 1"
   ]
  },
  {
   "cell_type": "code",
   "execution_count": 56,
   "metadata": {},
   "outputs": [
    {
     "name": "stdout",
     "output_type": "stream",
     "text": [
      "          ┌───┐┌───┐┌───┐┌─┐\n",
      "q12_0: |0>┤ H ├┤ Z ├┤ H ├┤M├\n",
      "          └───┘└───┘└───┘└╥┘\n",
      " c12_0: 0 ════════════════╩═\n",
      "                            \n"
     ]
    }
   ],
   "source": [
    "print(qc.draw())"
   ]
  }
 ],
 "metadata": {
  "kernelspec": {
   "display_name": ".venv",
   "language": "python",
   "name": ".venv"
  },
  "language_info": {
   "codemirror_mode": {
    "name": "ipython",
    "version": 3
   },
   "file_extension": ".py",
   "mimetype": "text/x-python",
   "name": "python",
   "nbconvert_exporter": "python",
   "pygments_lexer": "ipython3",
   "version": "3.7.2"
  }
 },
 "nbformat": 4,
 "nbformat_minor": 2
}
